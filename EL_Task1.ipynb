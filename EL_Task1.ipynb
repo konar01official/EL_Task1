{
  "metadata": {
    "kernelspec": {
      "name": "python",
      "display_name": "Python (Pyodide)",
      "language": "python"
    },
    "language_info": {
      "codemirror_mode": {
        "name": "python",
        "version": 3
      },
      "file_extension": ".py",
      "mimetype": "text/x-python",
      "name": "python",
      "nbconvert_exporter": "python",
      "pygments_lexer": "ipython3",
      "version": "3.8"
    }
  },
  "nbformat_minor": 5,
  "nbformat": 4,
  "cells": [
    {
      "id": "f95fb6ae-c1a3-4ef0-a202-9673fa928909",
      "cell_type": "code",
      "source": "#Task 1 Of Elivator Lab",
      "metadata": {
        "trusted": true
      },
      "outputs": [],
      "execution_count": 30
    },
    {
      "id": "ff58d27f-6237-4f5b-8dfc-42b59fc35e3a",
      "cell_type": "code",
      "source": "# Importing pandas\nimport pandas as pd\n\n# Load the dataset\ndf = pd.read_csv('Mall_Customers.csv')\n",
      "metadata": {
        "trusted": true,
        "scrolled": true
      },
      "outputs": [],
      "execution_count": 56
    },
    {
      "id": "52b64512-715d-4c2b-b2a1-4345a8dc3063",
      "cell_type": "code",
      "source": "#1 Check for missing values\nprint(\"\\nMissing Values:\")\nprint(df.isnull().sum())",
      "metadata": {
        "trusted": true,
        "scrolled": true
      },
      "outputs": [
        {
          "name": "stdout",
          "output_type": "stream",
          "text": "\nMissing Values:\nCustomerID                0\nGender                    0\nAge                       0\nAnnual Income (k$)        0\nSpending Score (1-100)    0\ndtype: int64\n"
        }
      ],
      "execution_count": 57
    },
    {
      "id": "be84dd38-f00f-45cc-8975-e72e010a671e",
      "cell_type": "code",
      "source": "#2 Check for duplicate records\nprint(\"\\nDuplicate Rows:\", df.duplicated().sum())\n\n# Remove duplicates\ndf = df.drop_duplicates()",
      "metadata": {
        "trusted": true
      },
      "outputs": [
        {
          "name": "stdout",
          "output_type": "stream",
          "text": "\nDuplicate Rows: 0\n"
        }
      ],
      "execution_count": 51
    },
    {
      "id": "eed61111-10c5-44b2-9812-c14652ae7f09",
      "cell_type": "code",
      "source": "#3 Standardize column names: lowercase, replace spaces with underscores\ndf.columns = df.columns.str.lower().str.strip().str.replace(' ', '_')\n\n# Show updated column names\nprint(\"Updated Column Names:\")\nprint(df.columns.tolist())",
      "metadata": {
        "trusted": true
      },
      "outputs": [
        {
          "name": "stdout",
          "output_type": "stream",
          "text": "Updated Column Names:\n['customerid', 'gender', 'age', 'annual_income_(k$)', 'spending_score_(1-100)', 'age_group']\n"
        }
      ],
      "execution_count": 52
    },
    {
      "id": "21b23428-beae-4f2b-84c4-5f570b4585e4",
      "cell_type": "code",
      "source": "#4 Clean column names\ndf.columns = df.columns.str.lower().str.strip().str.replace(' ', '_')\n\n# Now clean gender values\nif 'gender' in df.columns:\n    df['gender'] = df['gender'].str.lower().str.strip()\n    print(\"Standardized values in 'gender' column:\")\n    print(df['gender'].unique())\nelse:\n    print(\"The column 'gender' was not found.\")\n",
      "metadata": {
        "trusted": true
      },
      "outputs": [
        {
          "name": "stdout",
          "output_type": "stream",
          "text": "Standardized values in 'gender' column:\n['male' 'female']\n"
        }
      ],
      "execution_count": 53
    },
    {
      "id": "cace89ed-acc0-497c-af3a-706cd1a85529",
      "cell_type": "code",
      "source": "#5 Drop column if it exists (like 'unnamed:_0')\ndf.drop(columns=['unnamed:_0'], inplace=True, errors='ignore')\n\n# Show remaining columns\nprint(\"Remaining columns after dropping:\")\nprint(df.columns.tolist())\n",
      "metadata": {
        "trusted": true
      },
      "outputs": [
        {
          "name": "stdout",
          "output_type": "stream",
          "text": "Remaining columns after dropping:\n['customerid', 'gender', 'age', 'annual_income_(k$)', 'spending_score_(1-100)', 'age_group']\n"
        }
      ],
      "execution_count": 42
    },
    {
      "id": "3a6c3861-6dae-45bd-ba99-849d669513d7",
      "cell_type": "code",
      "source": "#6 Create Age Group\ndf['age_group'] = pd.cut(df['age'], bins=[0, 18, 35, 50, 100],\n                         labels=['Teen', 'Young Adult', 'Adult', 'Senior'])\nprint(\"Sample with Age Group:\")\nprint(df[['age', 'age_group']].head())\n",
      "metadata": {
        "trusted": true
      },
      "outputs": [
        {
          "name": "stdout",
          "output_type": "stream",
          "text": "Sample with Age Group:\n   age    age_group\n0   19  Young Adult\n1   21  Young Adult\n2   20  Young Adult\n3   23  Young Adult\n4   31  Young Adult\n"
        }
      ],
      "execution_count": 43
    },
    {
      "id": "d364c90a-883b-46f6-be14-f7df4cf83167",
      "cell_type": "code",
      "source": "#7 Check datatype before conversion\nprint(\"Data type before fixing 'customerid':\", df['customerid'].dtype)\n\n# Convert 'customerid' to integer\ndf['customerid'] = df['customerid'].astype(int)\n\n# Confirm datatype after conversion\nprint(\"Data type after fixing 'customerid':\", df['customerid'].dtype)\n",
      "metadata": {
        "trusted": true
      },
      "outputs": [
        {
          "name": "stdout",
          "output_type": "stream",
          "text": "Data type before fixing 'customerid': int32\nData type after fixing 'customerid': int32\n"
        }
      ],
      "execution_count": 44
    },
    {
      "id": "6f4a90ea-c04a-4092-8735-750408e90ac5",
      "cell_type": "code",
      "source": "#8 Final summary\nprint(\"\\nCleaned Data Info:\")\nprint(df.info())\n\nprint(\"\\nCleaned Data Sample:\")\nprint(df.head())",
      "metadata": {
        "trusted": true
      },
      "outputs": [
        {
          "name": "stdout",
          "output_type": "stream",
          "text": "\nCleaned Data Info:\n<class 'pandas.core.frame.DataFrame'>\nRangeIndex: 200 entries, 0 to 199\nData columns (total 6 columns):\n #   Column                  Non-Null Count  Dtype   \n---  ------                  --------------  -----   \n 0   customerid              200 non-null    int32   \n 1   gender                  200 non-null    object  \n 2   age                     200 non-null    int64   \n 3   annual_income_(k$)      200 non-null    int64   \n 4   spending_score_(1-100)  200 non-null    int64   \n 5   age_group               200 non-null    category\ndtypes: category(1), int32(1), int64(3), object(1)\nmemory usage: 6.6+ KB\nNone\n\nCleaned Data Sample:\n   customerid  gender  age  annual_income_(k$)  spending_score_(1-100)  \\\n0           1    male   19                  15                      39   \n1           2    male   21                  15                      81   \n2           3  female   20                  16                       6   \n3           4  female   23                  16                      77   \n4           5  female   31                  17                      40   \n\n     age_group  \n0  Young Adult  \n1  Young Adult  \n2  Young Adult  \n3  Young Adult  \n4  Young Adult  \n"
        }
      ],
      "execution_count": 45
    },
    {
      "id": "59eef473-baf3-40bc-bfb8-c82a258b9484",
      "cell_type": "code",
      "source": "#9 Save cleaned dataset\ndf.to_csv('Mall_Customers_Cleaned.csv', index=False)\n\n# Confirm successful save\nprint(\"Cleaned dataset saved as 'Mall_Customers_Cleaned.csv'\")\n",
      "metadata": {
        "trusted": true
      },
      "outputs": [
        {
          "name": "stdout",
          "output_type": "stream",
          "text": "Cleaned dataset saved as 'Mall_Customers_Cleaned.csv'\n"
        }
      ],
      "execution_count": 54
    },
    {
      "id": "fc536672-4d1e-40ea-b54d-f0d75e6416a2",
      "cell_type": "code",
      "source": "#10 Show the first 5 rows of the cleaned DataFrame\nprint(\"Final Cleaned Data Preview:\")\nprint(df.head())",
      "metadata": {
        "trusted": true
      },
      "outputs": [
        {
          "name": "stdout",
          "output_type": "stream",
          "text": "Final Cleaned Data Preview:\n   customerid  gender  age  annual_income_(k$)  spending_score_(1-100)  \\\n0           1    male   19                  15                      39   \n1           2    male   21                  15                      81   \n2           3  female   20                  16                       6   \n3           4  female   23                  16                      77   \n4           5  female   31                  17                      40   \n\n     age_group  \n0  Young Adult  \n1  Young Adult  \n2  Young Adult  \n3  Young Adult  \n4  Young Adult  \n"
        }
      ],
      "execution_count": 49
    },
    {
      "id": "38a9caf3-fcd6-4303-b7eb-3149235b3d8c",
      "cell_type": "code",
      "source": "",
      "metadata": {
        "trusted": true
      },
      "outputs": [],
      "execution_count": null
    }
  ]
}